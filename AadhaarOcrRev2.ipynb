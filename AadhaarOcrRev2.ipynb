{
 "cells": [
  {
   "cell_type": "code",
   "execution_count": 1,
   "id": "afeff1bb",
   "metadata": {},
   "outputs": [],
   "source": [
    "import cv2\n",
    "import re"
   ]
  },
  {
   "cell_type": "markdown",
   "id": "431ee9c2",
   "metadata": {},
   "source": [
    "https://cppsecrets.com/users/3081149711010610511611464104111116109971051084699111109/Python-Program-to-extract-information-from-Aadhar-Card.php"
   ]
  },
  {
   "cell_type": "code",
   "execution_count": 2,
   "id": "999948e2",
   "metadata": {},
   "outputs": [],
   "source": [
    "import pytesseract\n",
    "pytesseract.pytesseract.tesseract_cmd = r'E:\\Miscelleneous\\Tesseract-OCR\\tesseract.exe'"
   ]
  },
  {
   "cell_type": "code",
   "execution_count": 3,
   "id": "7186e33d",
   "metadata": {},
   "outputs": [],
   "source": [
    "# https://github.com/008karan/PAN_OCR/blob/master/pan.py\n",
    "class AadhaarCard():\n",
    "    \n",
    "    def __init__(self, image_file):\n",
    "        self.image_file = image_file\n",
    "        if self is None:\n",
    "            return 0\n",
    "        else:\n",
    "            self.img = cv2.imread(self.image_file)\n",
    "            #self.img = cv2.resize(img, None, fx=2, fy=2, interpolation=cv2.INTER_CUBIC)\n",
    "        \n",
    "    def show_image(self):\n",
    "        window_name = 'image'\n",
    "        cv2.imshow(window_name, self.img) \n",
    "        cv2.waitKey(0)    \n",
    "        cv2.destroyAllWindows() \n",
    "        \n",
    "    def extract_text(self): \n",
    "        img = cv2.cvtColor(self.img, cv2.COLOR_BGR2GRAY)\n",
    "        # the following command uses the tesseract directory path to get the trained data in the config option:\n",
    "        text = pytesseract.image_to_string(img, config='--tessdata-dir \"E:\\\\Miscelleneous\\\\Tesseract-OCR\\\\tessdata\"')\n",
    "        self.text = text\n",
    "        return text       \n",
    "   \n",
    "    def show_details(self): #Function to validate if an image contains text showing its an aadhaar card\n",
    "        res=self.text.split()\n",
    "        \n",
    "        ## Read name\n",
    "        if 'GOVERNMENT OF INDIA'  in self.text:\n",
    "            index = res.index('INDIA')\n",
    "            name=''\n",
    "            if res[index + 3].isalpha(): # Is all characters are alphabetical\n",
    "                name = res[index + 6] + \" \" + res[index + 7] + \" \" + res[index + 8] \n",
    "            else :\n",
    "                name = res[index + 7] + \" \" + res[index + 8] + \" \" + res[index + 9]\n",
    "        else:\n",
    "            name = res[2] + \" \" + res[3]+ \" \" + res[4] + \" \" + res[5]\n",
    "        if len(name) > 1:\n",
    "            print(\"Name:  \" + name)\n",
    "        else:\n",
    "            print(\"Name not read\")\n",
    "        \n",
    "        ## Read date of birth\n",
    "        dates={}\n",
    "        p = re.compile('d+/d+/d+')\n",
    "        if (p.findall(self.text)):\n",
    "            dates = p.findall(self.text)                    \n",
    "        if len(dates) > 0 and len(dates[0]) > 1:\n",
    "            print(\"Date of birth:\"+ str(dates[0]))\n",
    "        else:\n",
    "            print(\"Date of birth not found\")\n",
    "                \n",
    "        ## Read Aadhaar number\n",
    "        aadhaar_number = ''\n",
    "        for word in res:\n",
    "            if 'yob' in word.lower():\n",
    "                yob = re.findall('d+', word)\n",
    "                if yob:\n",
    "                    print ('Year of Birth: ' + yob[0])\n",
    "            if len(word) == 4 and word.isdigit():\n",
    "                aadhaar_number = aadhaar_number  + word + ' '\n",
    "        if len(aadhaar_number) >= 14:\n",
    "            print(\"Aadhaar number is :\"+ aadhaar_number)\n",
    "            number = aadhaar_number.replace(\" \", \"\")\n",
    "            number = int(number)\n",
    "            self.number = number\n",
    "        else:\n",
    "            print(\"Aadhaar number not read\")\n",
    "            print(\"Try again or try  another file\")\n",
    "            self.number = None\n",
    "   \n",
    "    # Verhoeff Algorithm\n",
    "    def compute_checksum(self):\n",
    "    \n",
    "        multiplication_table = (\n",
    "            (0, 1, 2, 3, 4, 5, 6, 7, 8, 9),\n",
    "            (1, 2, 3, 4, 0, 6, 7, 8, 9, 5),\n",
    "            (2, 3, 4, 0, 1, 7, 8, 9, 5, 6),\n",
    "            (3, 4, 0, 1, 2, 8, 9, 5, 6, 7),\n",
    "            (4, 0, 1, 2, 3, 9, 5, 6, 7, 8),\n",
    "            (5, 9, 8, 7, 6, 0, 4, 3, 2, 1),\n",
    "            (6, 5, 9, 8, 7, 1, 0, 4, 3, 2),\n",
    "            (7, 6, 5, 9, 8, 2, 1, 0, 4, 3),\n",
    "            (8, 7, 6, 5, 9, 3, 2, 1, 0, 4),\n",
    "            (9, 8, 7, 6, 5, 4, 3, 2, 1, 0))\n",
    "\n",
    "        permutation_table = (\n",
    "            (0, 1, 2, 3, 4, 5, 6, 7, 8, 9),\n",
    "            (1, 5, 7, 6, 2, 8, 3, 0, 9, 4),\n",
    "            (5, 8, 0, 3, 7, 9, 6, 1, 4, 2),\n",
    "            (8, 9, 1, 6, 0, 4, 3, 5, 2, 7),\n",
    "            (9, 4, 5, 3, 1, 2, 6, 8, 7, 0),\n",
    "            (4, 2, 8, 6, 5, 7, 3, 9, 0, 1),\n",
    "            (2, 7, 9, 3, 8, 0, 6, 4, 1, 5),\n",
    "            (7, 0, 4, 6, 9, 1, 3, 2, 5, 8))\n",
    "    \n",
    "        \"\"\"Calculate the Verhoeff checksum over the provided number. The checksum\n",
    "        is returned as an int. Valid numbers should have a checksum of 0.\"\"\"\n",
    "    \n",
    "        # transform number list\n",
    "        number = self.number\n",
    "        number = tuple(int(n) for n in reversed(str(number)))\n",
    "    \n",
    "        # calculate checksum\n",
    "        checksum = 0\n",
    "    \n",
    "        for i, n in enumerate(number):\n",
    "            checksum = multiplication_table[checksum][permutation_table[i % 8][n]]\n",
    "        \n",
    "        if checksum == 0:\n",
    "            print(\"AAdhaar Number is valid\")\n",
    "        else:\n",
    "            print(\"AAdhaar Number is not valid\")"
   ]
  },
  {
   "cell_type": "code",
   "execution_count": 8,
   "id": "a822a39a",
   "metadata": {},
   "outputs": [
    {
     "data": {
      "text/plain": [
       "'ee\\n\\nGovernment of India\\n\\nwat TE HITS\\n\\nSakhi bai kushwah\\nsea Fatt / DOB : 10/10/1989 a\\nFemale / aféct s\\n\\n \\n\\nef\\n9826 6359 8852\\n37a - HA Bea HT afta\\n\\n \\n\\n   \\n\\n \\n\\n \\n\\nNN. UNIQUE IDENTIFICATION AUTHORITY OF INDIA\\n\\n \\n\\n \\n\\n \\n\\n \\n\\nAddress: wife of lakhan ua 2 cat areas are\\nkushwah village barai arg Ue apg defeat\\npost barai tehsil badarwas aexare fore Prager\\ndistrict shivpuri 473885\\n473885\\n9826 6359 8852\\n= oz\\n4800 300 1947 help @ uidai.gov.in www.uidai.gov.in\\n\\n \\n\\n \\n\\x0c'"
      ]
     },
     "execution_count": 8,
     "metadata": {},
     "output_type": "execute_result"
    }
   ],
   "source": [
    "imagefile = \"E:\\\\AadhaarSampleSet\\\\aadhaar1.jpg\"\n",
    "a = AadhaarCard(imagefile)\n",
    "text = a.extract_text()\n",
    "text"
   ]
  },
  {
   "cell_type": "code",
   "execution_count": 9,
   "id": "0742233b",
   "metadata": {},
   "outputs": [
    {
     "name": "stdout",
     "output_type": "stream",
     "text": [
      "Name:  of India wat TE\n",
      "Date of birth not found\n",
      "Aadhaar number is :9826 6359 8852 9826 6359 8852 4800 1947 \n"
     ]
    }
   ],
   "source": [
    "a.show_details()"
   ]
  },
  {
   "cell_type": "code",
   "execution_count": 10,
   "id": "3bea0592",
   "metadata": {},
   "outputs": [
    {
     "name": "stdout",
     "output_type": "stream",
     "text": [
      "AAdhaar Number is not valid\n"
     ]
    }
   ],
   "source": [
    "a.compute_checksum()"
   ]
  },
  {
   "cell_type": "code",
   "execution_count": 11,
   "id": "339fab2d",
   "metadata": {},
   "outputs": [],
   "source": [
    "a.show_image()"
   ]
  },
  {
   "cell_type": "code",
   "execution_count": null,
   "id": "5ccd4c79",
   "metadata": {},
   "outputs": [],
   "source": []
  }
 ],
 "metadata": {
  "kernelspec": {
   "display_name": "Python 3",
   "language": "python",
   "name": "python3"
  },
  "language_info": {
   "codemirror_mode": {
    "name": "ipython",
    "version": 3
   },
   "file_extension": ".py",
   "mimetype": "text/x-python",
   "name": "python",
   "nbconvert_exporter": "python",
   "pygments_lexer": "ipython3",
   "version": "3.8.8"
  }
 },
 "nbformat": 4,
 "nbformat_minor": 5
}
